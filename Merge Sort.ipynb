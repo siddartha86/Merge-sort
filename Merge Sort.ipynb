{
 "cells": [
  {
   "cell_type": "code",
   "execution_count": 1,
   "metadata": {},
   "outputs": [
    {
     "name": "stdout",
     "output_type": "stream",
     "text": [
      "[2, 2, 4, 5, 7, 11, 12, 13, 56]\n"
     ]
    }
   ],
   "source": [
    "def merge_sort(arr):                \n",
    "    \n",
    "    if len(arr)>1:                         \n",
    "        \n",
    "        mid=len(arr)//2\n",
    "        lefthalf=arr[:mid]\n",
    "        righthalf=arr[mid:]\n",
    "        \n",
    "        merge_sort(lefthalf)\n",
    "        merge_sort(righthalf)\n",
    "        \n",
    "        i=0\n",
    "        j=0\n",
    "        k=0\n",
    "        \n",
    "        while(i<len(lefthalf) and j<len(righthalf)):\n",
    "            \n",
    "            if lefthalf[i]<righthalf[j]:\n",
    "                arr[k]=lefthalf[i]\n",
    "                i=i+1\n",
    "                \n",
    "            else:\n",
    "                arr[k]=righthalf[j]\n",
    "                j=j+1\n",
    "                \n",
    "            k=k+1\n",
    "            \n",
    "        while(i<len(lefthalf)):\n",
    "            arr[k]=lefthalf[i]\n",
    "            i=i+1\n",
    "            k=k+1\n",
    "        \n",
    "        while(j<len(righthalf)):\n",
    "            arr[k]=righthalf[j]\n",
    "            j=j+1\n",
    "            k=k+1 \n",
    "    \n",
    "    return arr\n",
    "            \n",
    "        \n",
    "    \n",
    "arr=[11,2,5,4,7,56,2,12,13]\n",
    "print(merge_sort(arr))       "
   ]
  },
  {
   "cell_type": "code",
   "execution_count": null,
   "metadata": {},
   "outputs": [],
   "source": []
  }
 ],
 "metadata": {
  "kernelspec": {
   "display_name": "Python 3",
   "language": "python",
   "name": "python3"
  },
  "language_info": {
   "codemirror_mode": {
    "name": "ipython",
    "version": 3
   },
   "file_extension": ".py",
   "mimetype": "text/x-python",
   "name": "python",
   "nbconvert_exporter": "python",
   "pygments_lexer": "ipython3",
   "version": "3.7.4"
  }
 },
 "nbformat": 4,
 "nbformat_minor": 2
}
